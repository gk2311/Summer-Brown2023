{
 "cells": [
  {
   "cell_type": "markdown",
   "id": "b672fd3d",
   "metadata": {},
   "source": [
    "# Logistic Regression Workshop - Python Version\n",
    "\n",
    "\n",
    "## Introduction\n",
    "\n",
    "In this workshop, we are going to learn the basics of logistic regression, understand the interpretation of the model's coefficients, and apply it in a Python environment. Logistic Regression is a powerful machine learning algorithm used for binary classification problems and is an essential part of a data scientist's toolkit.\n",
    "\n",
    "## Workshop Objectives\n",
    "\n",
    "- Understand the logistic regression model and how it differs from linear regression.\n",
    "- Understand how to code in Python and how it is different from R.\n",
    "- Learn how to implement logistic regression in Python and evaluate its performance.\n",
    "\n",
    "## Scenario\n",
    "\n",
    "We are given a dataset of 30 credit cardholders who were contacted during a campaign last year. The dataset includes:\n",
    "\n",
    "- Upgraded: Whether the credit cardholder upgraded to a premium card (0 = No, 1 = Yes).\n",
    "- Purchases: Total credit card purchases in '000$ from the last year.\n",
    "- ExtraCards: Whether the credit cardholder ordered additional credit cards (at extra cost) for other household members (0 = No, 1 = Yes).\n",
    "\n",
    "Our task is to build a logistic regression model using these features to answer the question: \"Which of the existing credit cardholders should be the target for the campaign?\".\n",
    "\n",
    "This model will help us identify the characteristics of cardholders who are most likely to upgrade to a premium card, thereby aiding in the formulation of effective marketing strategies. For our analysis, we will be using Python."
   ]
  },
  {
   "cell_type": "code",
   "execution_count": 1,
   "id": "2b5b61ec",
   "metadata": {},
   "outputs": [],
   "source": [
    "#load the necessary libraries\n",
    "import pandas as pd\n",
    "import numpy as np\n",
    "from sklearn.model_selection import train_test_split\n",
    "from sklearn.linear_model import LogisticRegression\n",
    "from sklearn.metrics import confusion_matrix, accuracy_score, precision_score, recall_score\n",
    "import seaborn as sns\n",
    "import matplotlib.pyplot as plt\n",
    "from scipy.stats import norm"
   ]
  },
  {
   "cell_type": "code",
   "execution_count": 2,
   "id": "4ba3e0f7",
   "metadata": {},
   "outputs": [],
   "source": [
    "# Load your dataset\n",
    "data = pd.read_excel('CreditCardUpgrade.xlsx')"
   ]
  },
  {
   "cell_type": "code",
   "execution_count": 3,
   "id": "e0c8321a",
   "metadata": {},
   "outputs": [
    {
     "data": {
      "text/html": [
       "<div>\n",
       "<style scoped>\n",
       "    .dataframe tbody tr th:only-of-type {\n",
       "        vertical-align: middle;\n",
       "    }\n",
       "\n",
       "    .dataframe tbody tr th {\n",
       "        vertical-align: top;\n",
       "    }\n",
       "\n",
       "    .dataframe thead th {\n",
       "        text-align: right;\n",
       "    }\n",
       "</style>\n",
       "<table border=\"1\" class=\"dataframe\">\n",
       "  <thead>\n",
       "    <tr style=\"text-align: right;\">\n",
       "      <th></th>\n",
       "      <th>upgraded</th>\n",
       "      <th>purchases</th>\n",
       "      <th>extraCards</th>\n",
       "    </tr>\n",
       "  </thead>\n",
       "  <tbody>\n",
       "    <tr>\n",
       "      <th>0</th>\n",
       "      <td>0</td>\n",
       "      <td>32.1007</td>\n",
       "      <td>0</td>\n",
       "    </tr>\n",
       "    <tr>\n",
       "      <th>1</th>\n",
       "      <td>1</td>\n",
       "      <td>34.3706</td>\n",
       "      <td>1</td>\n",
       "    </tr>\n",
       "    <tr>\n",
       "      <th>2</th>\n",
       "      <td>0</td>\n",
       "      <td>4.8749</td>\n",
       "      <td>0</td>\n",
       "    </tr>\n",
       "    <tr>\n",
       "      <th>3</th>\n",
       "      <td>0</td>\n",
       "      <td>8.1263</td>\n",
       "      <td>0</td>\n",
       "    </tr>\n",
       "    <tr>\n",
       "      <th>4</th>\n",
       "      <td>0</td>\n",
       "      <td>12.9783</td>\n",
       "      <td>0</td>\n",
       "    </tr>\n",
       "  </tbody>\n",
       "</table>\n",
       "</div>"
      ],
      "text/plain": [
       "   upgraded  purchases  extraCards\n",
       "0         0    32.1007           0\n",
       "1         1    34.3706           1\n",
       "2         0     4.8749           0\n",
       "3         0     8.1263           0\n",
       "4         0    12.9783           0"
      ]
     },
     "execution_count": 3,
     "metadata": {},
     "output_type": "execute_result"
    }
   ],
   "source": [
    "# Viewing first few rows of the data\n",
    "data.head()"
   ]
  },
  {
   "cell_type": "code",
   "execution_count": 4,
   "id": "fa8907df",
   "metadata": {},
   "outputs": [
    {
     "data": {
      "image/png": "[encoded data removed]",
      "text/plain": [
       "<Figure size 432x288 with 1 Axes>"
      ]
     },
     "metadata": {
      "needs_background": "light"
     },
     "output_type": "display_data"
    }
   ],
   "source": [
    "# Visualize data - you might want to adapt this part depending on your specific dataset and the questions you're interested in\n",
    "# Always good to visualize your data before jumping into model building\n",
    "\n",
    "sns.histplot(data=data, x='purchases', bins=10, kde=False)\n",
    "plt.xlabel('Purchases')\n",
    "plt.ylabel('Count')\n",
    "plt.title('Distribution of Purchases')\n",
    "plt.show()"
   ]
  },
  {
   "cell_type": "code",
   "execution_count": 5,
   "id": "10a1dbe6",
   "metadata": {},
   "outputs": [
    {
     "name": "stderr",
     "output_type": "stream",
     "text": [
      "/var/folders/yy/mx9fzt217dqckjcglk6tbfv80000gn/T/ipykernel_59952/3641157899.py:11: UserWarning: color is redundantly defined by the 'color' keyword argument and the fmt string \"k\" (-> color=(0.0, 0.0, 0.0, 1)). The keyword argument will take precedence.\n",
      "  plt.plot(x, p, 'k', linewidth=2, color='red')\n"
     ]
    },
    {
     "data": {
      "image/png": "[encoded data removed]",
      "text/plain": [
       "<Figure size 432x288 with 1 Axes>"
      ]
     },
     "metadata": {
      "needs_background": "light"
     },
     "output_type": "display_data"
    }
   ],
   "source": [
    "mu, std = data['purchases'].mean(), data['purchases'].std()\n",
    "\n",
    "sns.histplot(data=data, x='purchases', bins=10, kde=False, stat='density')\n",
    "plt.xlabel('Purchases')\n",
    "plt.ylabel('Density')\n",
    "plt.title('Distribution of Purchases')\n",
    "\n",
    "xmin, xmax = plt.xlim()\n",
    "x = np.linspace(xmin, xmax, 100)\n",
    "p = norm.pdf(x, mu, std)\n",
    "plt.plot(x, p, 'k', linewidth=2, color='red')\n",
    "plt.show()"
   ]
  },
  {
   "cell_type": "code",
   "execution_count": 6,
   "id": "644777bb",
   "metadata": {},
   "outputs": [],
   "source": [
    "# Split the data into training and testing sets\n",
    "X = data[['purchases', 'extraCards']]\n",
    "y = data['upgraded']\n",
    "\n",
    "\n",
    "X_train, X_test, y_train, y_test = train_test_split(X, y, test_size=0.3, random_state=42)"
   ]
  },
  {
   "cell_type": "code",
   "execution_count": 7,
   "id": "d69d7c5c",
   "metadata": {},
   "outputs": [
    {
     "data": {
      "text/plain": [
       "LogisticRegression()"
      ]
     },
     "execution_count": 7,
     "metadata": {},
     "output_type": "execute_result"
    }
   ],
   "source": [
    "# Create and train the model\n",
    "model = LogisticRegression()\n",
    "model.fit(X_train, y_train)"
   ]
  },
  {
   "cell_type": "code",
   "execution_count": 8,
   "id": "f0a4b5fb",
   "metadata": {},
   "outputs": [
    {
     "name": "stdout",
     "output_type": "stream",
     "text": [
      "Intercept: [-4.6852508]\n",
      "Coefficients: [[0.10291895 1.3142994 ]]\n"
     ]
    }
   ],
   "source": [
    "# Print the model's coefficients\n",
    "print('Intercept:', model.intercept_)\n",
    "print('Coefficients:', model.coef_)"
   ]
  },
  {
   "cell_type": "code",
   "execution_count": 9,
   "id": "122acd69",
   "metadata": {},
   "outputs": [],
   "source": [
    "# Make predictions on the test set\n",
    "y_pred = model.predict(X_test)"
   ]
  },
  {
   "cell_type": "code",
   "execution_count": 13,
   "id": "608fc6c6",
   "metadata": {},
   "outputs": [
    {
     "data": {
      "image/png": "[encoded data removed]",
      "text/plain": [
       "<Figure size 432x432 with 2 Axes>"
      ]
     },
     "metadata": {
      "needs_background": "light"
     },
     "output_type": "display_data"
    }
   ],
   "source": [
    "# Visualize the confusion matrix\n",
    "conf_matrix = confusion_matrix(y_test, y_pred)\n",
    "\n",
    "fig, ax = plt.subplots(figsize=(6,6))\n",
    "sns.heatmap(conf_matrix, annot=True, fmt='d', xticklabels=['Not Upgraded', 'Upgraded'], yticklabels=['Not Upgraded', 'Upgraded'])\n",
    "plt.ylabel('Actual')\n",
    "plt.xlabel('Predicted')\n",
    "plt.show()"
   ]
  },
  {
   "cell_type": "code",
   "execution_count": 10,
   "id": "c075af6a",
   "metadata": {},
   "outputs": [
    {
     "name": "stdout",
     "output_type": "stream",
     "text": [
      "Accuracy: 0.8888888888888888\n"
     ]
    }
   ],
   "source": [
    "# Compute and print accuracy\n",
    "accuracy = accuracy_score(y_test, y_pred)\n",
    "print(f\"Accuracy: {accuracy}\")"
   ]
  },
  {
   "cell_type": "code",
   "execution_count": 11,
   "id": "8faf4d09",
   "metadata": {},
   "outputs": [
    {
     "name": "stdout",
     "output_type": "stream",
     "text": [
      "Precision: 0.8333333333333334\n",
      "Recall: 1.0\n"
     ]
    }
   ],
   "source": [
    "# Compute and print precision and recall\n",
    "precision = precision_score(y_test, y_pred)\n",
    "recall = recall_score(y_test, y_pred)\n",
    "print(f\"Precision: {precision}\")\n",
    "print(f\"Recall: {recall}\")"
   ]
  },
  {
   "cell_type": "code",
   "execution_count": 12,
   "id": "426e66f8",
   "metadata": {},
   "outputs": [
    {
     "name": "stdout",
     "output_type": "stream",
     "text": [
      "Confusion Matrix: \n",
      "[[3 1]\n",
      " [0 5]]\n"
     ]
    }
   ],
   "source": [
    "# Compute and print confusion matrix\n",
    "conf_matrix = confusion_matrix(y_test, y_pred)\n",
    "print(f\"Confusion Matrix: \\n{conf_matrix}\")"
   ]
  },
  {
   "cell_type": "code",
   "execution_count": null,
   "id": "af38216f",
   "metadata": {},
   "outputs": [],
   "source": []
  }
 ],
 "metadata": {
  "kernelspec": {
   "display_name": "Python 3 (ipykernel)",
   "language": "python",
   "name": "python3"
  },
  "language_info": {
   "codemirror_mode": {
    "name": "ipython",
    "version": 3
   },
   "file_extension": ".py",
   "mimetype": "text/x-python",
   "name": "python",
   "nbconvert_exporter": "python",
   "pygments_lexer": "ipython3",
   "version": "3.9.12"
  }
 },
 "nbformat": 4,
 "nbformat_minor": 5
}
