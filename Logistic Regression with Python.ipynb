{
 "cells": [
  {
   "cell_type": "markdown",
   "id": "488f8831",
   "metadata": {},
   "source": [
    "## Logistic Regression using Python"
   ]
  },
  {
   "cell_type": "markdown",
   "id": "f208bcd6",
   "metadata": {},
   "source": [
    "### In this notebook, we'll implement a logistic regression model to predict the admission of students into a school based on the marks of two tests. Logistic regression is a statistical model that uses a logistic function to model a binary dependent variable. It measures the relationship between the categorical dependent variable and one or more independent variables."
   ]
  },
  {
   "cell_type": "markdown",
   "id": "72c3fba9",
   "metadata": {},
   "source": [
    "### 1. Importing Required Libraries\n",
    "\n",
    "#### We start by importing the necessary libraries for handling and analyzing the data, as well as for the logistic regression process."
   ]
  },
  {
   "cell_type": "code",
   "execution_count": 1,
   "id": "89bcb1bc",
   "metadata": {},
   "outputs": [],
   "source": [
    "import pandas as pd\n",
    "import numpy as np\n",
    "import matplotlib.pyplot as plt\n",
    "import seaborn as sns\n",
    "import warnings\n",
    "import os\n",
    "import joblib\n",
    "import itertools\n",
    "import subprocess\n",
    "from time import time\n",
    "from scipy import stats\n",
    "import scipy.optimize as opt  \n",
    "from scipy.stats import chi2_contingency\n",
    "from sklearn.datasets import make_classification\n",
    "from sklearn.ensemble import RandomForestClassifier\n",
    "from sklearn.model_selection import train_test_split\n",
    "from sklearn.metrics import roc_curve"
   ]
  },
  {
   "cell_type": "markdown",
   "id": "ac3cee3e",
   "metadata": {},
   "source": [
    "### 2. Importing and Analysing the Data\n",
    "\n",
    "#### The dataset we're using contains the marks of students in two tests and information on whether or not they were admitted to a school. Let's load the dataset and perform some initial exploration."
   ]
  },
  {
   "cell_type": "code",
   "execution_count": 2,
   "id": "dab84044",
   "metadata": {},
   "outputs": [],
   "source": [
    "# READ DATA\n",
    "data = pd.read_excel('marks.xlsx', names=['marks1', 'marks2', 'admitted'])"
   ]
  },
  {
   "cell_type": "code",
   "execution_count": 3,
   "id": "1347fb17",
   "metadata": {},
   "outputs": [
    {
     "data": {
      "text/plain": [
       "(99, 3)"
      ]
     },
     "execution_count": 3,
     "metadata": {},
     "output_type": "execute_result"
    }
   ],
   "source": [
    "# GETTING THE DIMENSIONS OF THE ARRAY\n",
    "data.shape"
   ]
  },
  {
   "cell_type": "code",
   "execution_count": 4,
   "id": "fefd74ca",
   "metadata": {},
   "outputs": [
    {
     "data": {
      "text/html": [
       "<div>\n",
       "<style scoped>\n",
       "    .dataframe tbody tr th:only-of-type {\n",
       "        vertical-align: middle;\n",
       "    }\n",
       "\n",
       "    .dataframe tbody tr th {\n",
       "        vertical-align: top;\n",
       "    }\n",
       "\n",
       "    .dataframe thead th {\n",
       "        text-align: right;\n",
       "    }\n",
       "</style>\n",
       "<table border=\"1\" class=\"dataframe\">\n",
       "  <thead>\n",
       "    <tr style=\"text-align: right;\">\n",
       "      <th></th>\n",
       "      <th>marks1</th>\n",
       "      <th>marks2</th>\n",
       "      <th>admitted</th>\n",
       "    </tr>\n",
       "  </thead>\n",
       "  <tbody>\n",
       "    <tr>\n",
       "      <th>0</th>\n",
       "      <td>30.286711</td>\n",
       "      <td>43.894998</td>\n",
       "      <td>0</td>\n",
       "    </tr>\n",
       "    <tr>\n",
       "      <th>1</th>\n",
       "      <td>35.847409</td>\n",
       "      <td>72.902198</td>\n",
       "      <td>0</td>\n",
       "    </tr>\n",
       "    <tr>\n",
       "      <th>2</th>\n",
       "      <td>60.182599</td>\n",
       "      <td>86.308552</td>\n",
       "      <td>1</td>\n",
       "    </tr>\n",
       "    <tr>\n",
       "      <th>3</th>\n",
       "      <td>79.032736</td>\n",
       "      <td>75.344376</td>\n",
       "      <td>1</td>\n",
       "    </tr>\n",
       "    <tr>\n",
       "      <th>4</th>\n",
       "      <td>45.083277</td>\n",
       "      <td>56.316372</td>\n",
       "      <td>0</td>\n",
       "    </tr>\n",
       "    <tr>\n",
       "      <th>5</th>\n",
       "      <td>61.106665</td>\n",
       "      <td>96.511426</td>\n",
       "      <td>1</td>\n",
       "    </tr>\n",
       "    <tr>\n",
       "      <th>6</th>\n",
       "      <td>75.024746</td>\n",
       "      <td>46.554014</td>\n",
       "      <td>1</td>\n",
       "    </tr>\n",
       "    <tr>\n",
       "      <th>7</th>\n",
       "      <td>76.098787</td>\n",
       "      <td>87.420570</td>\n",
       "      <td>1</td>\n",
       "    </tr>\n",
       "    <tr>\n",
       "      <th>8</th>\n",
       "      <td>84.432820</td>\n",
       "      <td>43.533393</td>\n",
       "      <td>1</td>\n",
       "    </tr>\n",
       "    <tr>\n",
       "      <th>9</th>\n",
       "      <td>45.450000</td>\n",
       "      <td>35.090000</td>\n",
       "      <td>0</td>\n",
       "    </tr>\n",
       "  </tbody>\n",
       "</table>\n",
       "</div>"
      ],
      "text/plain": [
       "      marks1     marks2  admitted\n",
       "0  30.286711  43.894998         0\n",
       "1  35.847409  72.902198         0\n",
       "2  60.182599  86.308552         1\n",
       "3  79.032736  75.344376         1\n",
       "4  45.083277  56.316372         0\n",
       "5  61.106665  96.511426         1\n",
       "6  75.024746  46.554014         1\n",
       "7  76.098787  87.420570         1\n",
       "8  84.432820  43.533393         1\n",
       "9  45.450000  35.090000         0"
      ]
     },
     "execution_count": 4,
     "metadata": {},
     "output_type": "execute_result"
    }
   ],
   "source": [
    "# VERIFYING IF WE IMPORTED THE RIGHT DATASET BY CHECKING THE FIRST FIVE ENTRIES OF THE DATA\n",
    "data.head(10)"
   ]
  },
  {
   "cell_type": "code",
   "execution_count": 5,
   "id": "f92f0891",
   "metadata": {},
   "outputs": [
    {
     "data": {
      "text/html": [
       "<div>\n",
       "<style scoped>\n",
       "    .dataframe tbody tr th:only-of-type {\n",
       "        vertical-align: middle;\n",
       "    }\n",
       "\n",
       "    .dataframe tbody tr th {\n",
       "        vertical-align: top;\n",
       "    }\n",
       "\n",
       "    .dataframe thead th {\n",
       "        text-align: right;\n",
       "    }\n",
       "</style>\n",
       "<table border=\"1\" class=\"dataframe\">\n",
       "  <thead>\n",
       "    <tr style=\"text-align: right;\">\n",
       "      <th></th>\n",
       "      <th>marks1</th>\n",
       "      <th>marks2</th>\n",
       "      <th>admitted</th>\n",
       "    </tr>\n",
       "  </thead>\n",
       "  <tbody>\n",
       "    <tr>\n",
       "      <th>94</th>\n",
       "      <td>53.84</td>\n",
       "      <td>93.00</td>\n",
       "      <td>1</td>\n",
       "    </tr>\n",
       "    <tr>\n",
       "      <th>95</th>\n",
       "      <td>29.57</td>\n",
       "      <td>67.25</td>\n",
       "      <td>0</td>\n",
       "    </tr>\n",
       "    <tr>\n",
       "      <th>96</th>\n",
       "      <td>58.58</td>\n",
       "      <td>14.37</td>\n",
       "      <td>1</td>\n",
       "    </tr>\n",
       "    <tr>\n",
       "      <th>97</th>\n",
       "      <td>34.65</td>\n",
       "      <td>54.91</td>\n",
       "      <td>1</td>\n",
       "    </tr>\n",
       "    <tr>\n",
       "      <th>98</th>\n",
       "      <td>42.82</td>\n",
       "      <td>19.13</td>\n",
       "      <td>1</td>\n",
       "    </tr>\n",
       "  </tbody>\n",
       "</table>\n",
       "</div>"
      ],
      "text/plain": [
       "    marks1  marks2  admitted\n",
       "94   53.84   93.00         1\n",
       "95   29.57   67.25         0\n",
       "96   58.58   14.37         1\n",
       "97   34.65   54.91         1\n",
       "98   42.82   19.13         1"
      ]
     },
     "execution_count": 5,
     "metadata": {},
     "output_type": "execute_result"
    }
   ],
   "source": [
    "# VERIFYING IF WE IMPORTED THE RIGHT DATASET BY CHECKING THE LAST FIVE ENTRIES OF THE DATA\n",
    "data.tail()"
   ]
  },
  {
   "cell_type": "code",
   "execution_count": 6,
   "id": "59b090f2",
   "metadata": {},
   "outputs": [
    {
     "name": "stdout",
     "output_type": "stream",
     "text": [
      "<class 'pandas.core.frame.DataFrame'>\n",
      "RangeIndex: 99 entries, 0 to 98\n",
      "Data columns (total 3 columns):\n",
      " #   Column    Non-Null Count  Dtype  \n",
      "---  ------    --------------  -----  \n",
      " 0   marks1    99 non-null     float64\n",
      " 1   marks2    99 non-null     float64\n",
      " 2   admitted  99 non-null     int64  \n",
      "dtypes: float64(2), int64(1)\n",
      "memory usage: 2.4 KB\n"
     ]
    }
   ],
   "source": [
    "# COLLECTING INFO ON THE DATA SET\n",
    "data.info()"
   ]
  },
  {
   "cell_type": "code",
   "execution_count": 7,
   "id": "d516d62e",
   "metadata": {},
   "outputs": [
    {
     "name": "stderr",
     "output_type": "stream",
     "text": [
      "/var/folders/yy/mx9fzt217dqckjcglk6tbfv80000gn/T/ipykernel_75833/1017638797.py:4: UserWarning: To output multiple subplots, the figure containing the passed axes is being cleared.\n",
      "  data.hist(ax=ax, bins = 30)\n"
     ]
    },
    {
     "data": {
      "image/png": "[encoded data removed]",
      "text/plain": [
       "<Figure size 1296x1296 with 4 Axes>"
      ]
     },
     "metadata": {
      "needs_background": "light"
     },
     "output_type": "display_data"
    }
   ],
   "source": [
    "# PLOTTING HISTOGRAMS FOR ALL VARIABLES\n",
    "fig = plt.figure(figsize=(18,18))\n",
    "ax = fig.gca()\n",
    "data.hist(ax=ax, bins = 30)\n",
    "plt.show()"
   ]
  },
  {
   "cell_type": "code",
   "execution_count": 8,
   "id": "f4916615",
   "metadata": {},
   "outputs": [
    {
     "data": {
      "text/html": [
       "<div>\n",
       "<style scoped>\n",
       "    .dataframe tbody tr th:only-of-type {\n",
       "        vertical-align: middle;\n",
       "    }\n",
       "\n",
       "    .dataframe tbody tr th {\n",
       "        vertical-align: top;\n",
       "    }\n",
       "\n",
       "    .dataframe thead th {\n",
       "        text-align: right;\n",
       "    }\n",
       "</style>\n",
       "<table border=\"1\" class=\"dataframe\">\n",
       "  <thead>\n",
       "    <tr style=\"text-align: right;\">\n",
       "      <th></th>\n",
       "      <th>marks1</th>\n",
       "      <th>marks2</th>\n",
       "      <th>admitted</th>\n",
       "    </tr>\n",
       "  </thead>\n",
       "  <tbody>\n",
       "    <tr>\n",
       "      <th>count</th>\n",
       "      <td>99.000000</td>\n",
       "      <td>99.000000</td>\n",
       "      <td>99.000000</td>\n",
       "    </tr>\n",
       "    <tr>\n",
       "      <th>mean</th>\n",
       "      <td>52.645311</td>\n",
       "      <td>56.513393</td>\n",
       "      <td>0.545455</td>\n",
       "    </tr>\n",
       "    <tr>\n",
       "      <th>std</th>\n",
       "      <td>25.709487</td>\n",
       "      <td>27.218410</td>\n",
       "      <td>0.500464</td>\n",
       "    </tr>\n",
       "    <tr>\n",
       "      <th>min</th>\n",
       "      <td>11.460000</td>\n",
       "      <td>10.370000</td>\n",
       "      <td>0.000000</td>\n",
       "    </tr>\n",
       "    <tr>\n",
       "      <th>25%</th>\n",
       "      <td>30.093356</td>\n",
       "      <td>35.215000</td>\n",
       "      <td>0.000000</td>\n",
       "    </tr>\n",
       "    <tr>\n",
       "      <th>50%</th>\n",
       "      <td>53.750000</td>\n",
       "      <td>55.180000</td>\n",
       "      <td>1.000000</td>\n",
       "    </tr>\n",
       "    <tr>\n",
       "      <th>75%</th>\n",
       "      <td>76.209394</td>\n",
       "      <td>80.665000</td>\n",
       "      <td>1.000000</td>\n",
       "    </tr>\n",
       "    <tr>\n",
       "      <th>max</th>\n",
       "      <td>98.680000</td>\n",
       "      <td>99.680000</td>\n",
       "      <td>1.000000</td>\n",
       "    </tr>\n",
       "  </tbody>\n",
       "</table>\n",
       "</div>"
      ],
      "text/plain": [
       "          marks1     marks2   admitted\n",
       "count  99.000000  99.000000  99.000000\n",
       "mean   52.645311  56.513393   0.545455\n",
       "std    25.709487  27.218410   0.500464\n",
       "min    11.460000  10.370000   0.000000\n",
       "25%    30.093356  35.215000   0.000000\n",
       "50%    53.750000  55.180000   1.000000\n",
       "75%    76.209394  80.665000   1.000000\n",
       "max    98.680000  99.680000   1.000000"
      ]
     },
     "execution_count": 8,
     "metadata": {},
     "output_type": "execute_result"
    }
   ],
   "source": [
    "#Summary statistics\n",
    "data.describe()"
   ]
  },
  {
   "cell_type": "code",
   "execution_count": 9,
   "id": "cc5b1611",
   "metadata": {},
   "outputs": [
    {
     "data": {
      "text/plain": [
       "marks1      0\n",
       "marks2      0\n",
       "admitted    0\n",
       "dtype: int64"
      ]
     },
     "execution_count": 9,
     "metadata": {},
     "output_type": "execute_result"
    }
   ],
   "source": [
    "#checking for null values\n",
    "data.isnull().sum()"
   ]
  },
  {
   "cell_type": "code",
   "execution_count": 10,
   "id": "dcc9d1c7",
   "metadata": {},
   "outputs": [],
   "source": [
    "# CREATING A COPY TO RETAIN THE NUMERICAL INFORMATION OF THE DATA AS WE CHANGE THE 0 AND 1 TO\n",
    "# 'NOT ADMITTED' AND 'ADMITTED'\n",
    "\n",
    "###\n",
    "data1 = data.copy()\n",
    "###"
   ]
  },
  {
   "cell_type": "code",
   "execution_count": 11,
   "id": "0c19fd28",
   "metadata": {},
   "outputs": [],
   "source": [
    "# RENAMING THE 0 AND I TO\n",
    "# 'NOT ADMITTED' AND 'ADMITTED' RESPECTIVELY\n",
    "data1.loc[:, 'admitted'] = data.loc[:, 'admitted'].apply(lambda x: 'admitted' if x == 1 else 'not admitted')"
   ]
  },
  {
   "cell_type": "code",
   "execution_count": 12,
   "id": "47d33680",
   "metadata": {},
   "outputs": [
    {
     "data": {
      "text/html": [
       "<div>\n",
       "<style scoped>\n",
       "    .dataframe tbody tr th:only-of-type {\n",
       "        vertical-align: middle;\n",
       "    }\n",
       "\n",
       "    .dataframe tbody tr th {\n",
       "        vertical-align: top;\n",
       "    }\n",
       "\n",
       "    .dataframe thead th {\n",
       "        text-align: right;\n",
       "    }\n",
       "</style>\n",
       "<table border=\"1\" class=\"dataframe\">\n",
       "  <thead>\n",
       "    <tr style=\"text-align: right;\">\n",
       "      <th></th>\n",
       "      <th>marks1</th>\n",
       "      <th>marks2</th>\n",
       "      <th>admitted</th>\n",
       "    </tr>\n",
       "  </thead>\n",
       "  <tbody>\n",
       "    <tr>\n",
       "      <th>0</th>\n",
       "      <td>30.286711</td>\n",
       "      <td>43.894998</td>\n",
       "      <td>not admitted</td>\n",
       "    </tr>\n",
       "    <tr>\n",
       "      <th>1</th>\n",
       "      <td>35.847409</td>\n",
       "      <td>72.902198</td>\n",
       "      <td>not admitted</td>\n",
       "    </tr>\n",
       "    <tr>\n",
       "      <th>2</th>\n",
       "      <td>60.182599</td>\n",
       "      <td>86.308552</td>\n",
       "      <td>admitted</td>\n",
       "    </tr>\n",
       "    <tr>\n",
       "      <th>3</th>\n",
       "      <td>79.032736</td>\n",
       "      <td>75.344376</td>\n",
       "      <td>admitted</td>\n",
       "    </tr>\n",
       "    <tr>\n",
       "      <th>4</th>\n",
       "      <td>45.083277</td>\n",
       "      <td>56.316372</td>\n",
       "      <td>not admitted</td>\n",
       "    </tr>\n",
       "    <tr>\n",
       "      <th>5</th>\n",
       "      <td>61.106665</td>\n",
       "      <td>96.511426</td>\n",
       "      <td>admitted</td>\n",
       "    </tr>\n",
       "    <tr>\n",
       "      <th>6</th>\n",
       "      <td>75.024746</td>\n",
       "      <td>46.554014</td>\n",
       "      <td>admitted</td>\n",
       "    </tr>\n",
       "    <tr>\n",
       "      <th>7</th>\n",
       "      <td>76.098787</td>\n",
       "      <td>87.420570</td>\n",
       "      <td>admitted</td>\n",
       "    </tr>\n",
       "    <tr>\n",
       "      <th>8</th>\n",
       "      <td>84.432820</td>\n",
       "      <td>43.533393</td>\n",
       "      <td>admitted</td>\n",
       "    </tr>\n",
       "    <tr>\n",
       "      <th>9</th>\n",
       "      <td>45.450000</td>\n",
       "      <td>35.090000</td>\n",
       "      <td>not admitted</td>\n",
       "    </tr>\n",
       "    <tr>\n",
       "      <th>10</th>\n",
       "      <td>65.600000</td>\n",
       "      <td>87.610000</td>\n",
       "      <td>admitted</td>\n",
       "    </tr>\n",
       "    <tr>\n",
       "      <th>11</th>\n",
       "      <td>60.030000</td>\n",
       "      <td>57.430000</td>\n",
       "      <td>not admitted</td>\n",
       "    </tr>\n",
       "    <tr>\n",
       "      <th>12</th>\n",
       "      <td>89.350000</td>\n",
       "      <td>73.660000</td>\n",
       "      <td>not admitted</td>\n",
       "    </tr>\n",
       "    <tr>\n",
       "      <th>13</th>\n",
       "      <td>43.890000</td>\n",
       "      <td>32.810000</td>\n",
       "      <td>admitted</td>\n",
       "    </tr>\n",
       "    <tr>\n",
       "      <th>14</th>\n",
       "      <td>14.510000</td>\n",
       "      <td>74.370000</td>\n",
       "      <td>admitted</td>\n",
       "    </tr>\n",
       "    <tr>\n",
       "      <th>15</th>\n",
       "      <td>24.500000</td>\n",
       "      <td>71.770000</td>\n",
       "      <td>not admitted</td>\n",
       "    </tr>\n",
       "    <tr>\n",
       "      <th>16</th>\n",
       "      <td>35.720000</td>\n",
       "      <td>94.450000</td>\n",
       "      <td>admitted</td>\n",
       "    </tr>\n",
       "    <tr>\n",
       "      <th>17</th>\n",
       "      <td>80.530000</td>\n",
       "      <td>12.900000</td>\n",
       "      <td>not admitted</td>\n",
       "    </tr>\n",
       "    <tr>\n",
       "      <th>18</th>\n",
       "      <td>60.170000</td>\n",
       "      <td>90.440000</td>\n",
       "      <td>admitted</td>\n",
       "    </tr>\n",
       "    <tr>\n",
       "      <th>19</th>\n",
       "      <td>35.200000</td>\n",
       "      <td>23.480000</td>\n",
       "      <td>admitted</td>\n",
       "    </tr>\n",
       "  </tbody>\n",
       "</table>\n",
       "</div>"
      ],
      "text/plain": [
       "       marks1     marks2      admitted\n",
       "0   30.286711  43.894998  not admitted\n",
       "1   35.847409  72.902198  not admitted\n",
       "2   60.182599  86.308552      admitted\n",
       "3   79.032736  75.344376      admitted\n",
       "4   45.083277  56.316372  not admitted\n",
       "5   61.106665  96.511426      admitted\n",
       "6   75.024746  46.554014      admitted\n",
       "7   76.098787  87.420570      admitted\n",
       "8   84.432820  43.533393      admitted\n",
       "9   45.450000  35.090000  not admitted\n",
       "10  65.600000  87.610000      admitted\n",
       "11  60.030000  57.430000  not admitted\n",
       "12  89.350000  73.660000  not admitted\n",
       "13  43.890000  32.810000      admitted\n",
       "14  14.510000  74.370000      admitted\n",
       "15  24.500000  71.770000  not admitted\n",
       "16  35.720000  94.450000      admitted\n",
       "17  80.530000  12.900000  not admitted\n",
       "18  60.170000  90.440000      admitted\n",
       "19  35.200000  23.480000      admitted"
      ]
     },
     "execution_count": 12,
     "metadata": {},
     "output_type": "execute_result"
    }
   ],
   "source": [
    "data1.head(20)"
   ]
  },
  {
   "cell_type": "code",
   "execution_count": 13,
   "id": "17eadfc6",
   "metadata": {},
   "outputs": [
    {
     "data": {
      "text/plain": [
       "<AxesSubplot:>"
      ]
     },
     "execution_count": 13,
     "metadata": {},
     "output_type": "execute_result"
    },
    {
     "data": {
      "image/png": "[encoded data removed]",
      "text/plain": [
       "<Figure size 360x288 with 2 Axes>"
      ]
     },
     "metadata": {
      "needs_background": "light"
     },
     "output_type": "display_data"
    }
   ],
   "source": [
    "# # calculate the correlation matrix\n",
    "corr = data.corr()\n",
    "\n",
    "# plot the heatmap\n",
    "fig = plt.figure(figsize=(5,4))\n",
    "sns.heatmap(corr, \n",
    "        xticklabels=corr.columns,\n",
    "        yticklabels=corr.columns,\n",
    "            linewidths=.75)"
   ]
  },
  {
   "cell_type": "code",
   "execution_count": 14,
   "id": "21d975c9",
   "metadata": {},
   "outputs": [],
   "source": [
    "# SETTING THE X VALUES AS THE INPUT PARAMETERS\n",
    "X = data.iloc[:,:-1]\n",
    "# SETTING THE CORRESPONDING Y VALUES AS THE LAST COLUMN WHETHER OR NOT THE STUDENT GOT ADMITTED\n",
    "y = data.iloc[:,-1]"
   ]
  },
  {
   "cell_type": "code",
   "execution_count": 15,
   "id": "78b2223c",
   "metadata": {},
   "outputs": [
    {
     "data": {
      "image/png": "[encoded data removed]",
      "text/plain": [
       "<Figure size 432x288 with 1 Axes>"
      ]
     },
     "metadata": {
      "needs_background": "light"
     },
     "output_type": "display_data"
    }
   ],
   "source": [
    "# DO NOT CHANGE ANYTHING, JUST RUN THE CELL\n",
    "# PLOTTING THE DATA POINTS ON A SCATTER PLOT\n",
    "\n",
    "mask = y == 1\n",
    "adm = plt.scatter(X[mask]['marks1'].values, X[mask]['marks2'].values)\n",
    "not_adm = plt.scatter(X[~mask]['marks1'].values, X[~mask]['marks2'].values)\n",
    "plt.xlabel('Test 1 score')\n",
    "plt.ylabel('Test 2 score')\n",
    "plt.legend((adm, not_adm), ('Admitted', 'Not admitted'))\n",
    "plt.show()"
   ]
  },
  {
   "cell_type": "markdown",
   "id": "8704333e",
   "metadata": {},
   "source": [
    "### 3. Logistic Regression for Classification\n",
    "\n",
    "#### Next, we will define the functions for the logistic regression.\n",
    "\n",
    "#### First, we define the sigmoid function. It maps any real value into another value between 0 and 1, which is used to convert our real-valued number into a probability that can then be mapped to two or more discrete classes."
   ]
  },
  {
   "attachments": {
    "image.png": {
     "image/png": "[encoded data removed]"
    }
   },
   "cell_type": "markdown",
   "id": "289da343",
   "metadata": {},
   "source": [
    "#### Sigmoid Function\n",
    "\n",
    ">>>>>![image.png](attachment:image.png)"
   ]
  },
  {
   "cell_type": "code",
   "execution_count": 16,
   "id": "08a40e93",
   "metadata": {},
   "outputs": [],
   "source": [
    "def sigmoid(x):\n",
    "    ###\n",
    "    return (1/(1+np.exp(-x)))\n",
    "    ###"
   ]
  },
  {
   "cell_type": "markdown",
   "id": "52d0d760",
   "metadata": {},
   "source": [
    "#### Next, we define the cost function. It calculates the error between our model's predictions and the actual values. Our goal is to minimize this cost."
   ]
  },
  {
   "attachments": {
    "image.png": {
     "image/png": "[encoded data removed]"
    }
   },
   "cell_type": "markdown",
   "id": "d34d84b9",
   "metadata": {},
   "source": [
    "#### Cost function\n",
    ">>>>>![image.png](attachment:image.png)"
   ]
  },
  {
   "cell_type": "markdown",
   "id": "c148a374",
   "metadata": {},
   "source": [
    "#### We then define the gradient function to update our parameters (theta) iteratively. This function calculates the derivative of the cost function at a particular theta value."
   ]
  },
  {
   "cell_type": "code",
   "execution_count": 17,
   "id": "2dcc3f5b",
   "metadata": {},
   "outputs": [],
   "source": [
    "def costFunction(theta, X, y):\n",
    "    J = (-1/m) * np.sum(np.multiply(y, np.log(sigmoid(X @ theta))) \n",
    "        + np.multiply((1-y), np.log(1 - sigmoid(X @ theta))))\n",
    "    return J"
   ]
  },
  {
   "attachments": {
    "image.png": {
     "image/png": "[encoded data removed]"
    }
   },
   "cell_type": "markdown",
   "id": "f31d4d01",
   "metadata": {},
   "source": [
    "#### Updating using gradients\n",
    ">>>>>![image.png](attachment:image.png)"
   ]
  },
  {
   "cell_type": "code",
   "execution_count": 18,
   "id": "8be5e6c7",
   "metadata": {},
   "outputs": [],
   "source": [
    "def gradient(theta, X, y):\n",
    "    return ((1/m) * X.T @ (sigmoid(X @ theta) - y))"
   ]
  },
  {
   "cell_type": "code",
   "execution_count": 19,
   "id": "25d15d66",
   "metadata": {},
   "outputs": [
    {
     "name": "stdout",
     "output_type": "stream",
     "text": [
      "0.6931471805599454\n"
     ]
    },
    {
     "name": "stderr",
     "output_type": "stream",
     "text": [
      "/var/folders/yy/mx9fzt217dqckjcglk6tbfv80000gn/T/ipykernel_75833/209985319.py:6: FutureWarning: Support for multi-dimensional indexing (e.g. `obj[:, None]`) is deprecated and will be removed in a future version.  Convert to a numpy array before indexing instead.\n",
      "  y = y[:, np.newaxis]\n"
     ]
    }
   ],
   "source": [
    "# INITIALIZING THE PARAMETERS\n",
    "# DO NOT CHANGE, JUST RUN THE CELL\n",
    "\n",
    "(m, n) = X.shape\n",
    "X = np.hstack((np.ones((m,1)), X))\n",
    "y = y[:, np.newaxis]\n",
    "\n",
    "# intializing theta with all zeros\n",
    "theta = np.zeros((n+1,1))\n",
    "J = costFunction(theta, X, y)\n",
    "print(J)"
   ]
  },
  {
   "cell_type": "code",
   "execution_count": 20,
   "id": "ed0a65cb",
   "metadata": {},
   "outputs": [
    {
     "name": "stdout",
     "output_type": "stream",
     "text": [
      "[-0.55069418  0.00652422  0.00694051]\n"
     ]
    },
    {
     "name": "stderr",
     "output_type": "stream",
     "text": [
      "  NIT   NF   F                       GTG\n",
      "    0    1  6.931471805599454E-01   2.48795160E+01\n",
      "    1    3  6.855812564572081E-01   4.11223136E-03\n",
      "    2    5  6.832859565450601E-01   1.16818448E+00\n",
      "    3    7  6.826689416685527E-01   2.44083887E-01\n",
      "    4    9  6.821262673668919E-01   5.48499539E-02\n",
      "    5   11  6.820301356940802E-01   1.02064445E-03\n",
      "tnc: fscale = 31.3013\n",
      "    6   13  6.820298127095243E-01   4.84824303E-06\n",
      "    7   15  6.820297805926957E-01   6.75753949E-07\n",
      "tnc: fscale = 1216.48\n",
      "tnc: |fn-fn-1] = 1.79006e-09 -> convergence\n",
      "    8   17  6.820297788026380E-01   7.68758926E-08\n",
      "tnc: Converged (|f_n-f_(n-1)| ~= 0)\n"
     ]
    }
   ],
   "source": [
    "# FINDING THE OPTIMIZED VALUES OF THETA, I.E. THE PARAMETERS\n",
    "\n",
    "parameters = opt.fmin_tnc(func = costFunction, \n",
    "                    x0 = theta.flatten(),fprime = gradient, \n",
    "                    args = (X, y.flatten()))\n",
    "\n",
    "parameters = parameters[0]\n",
    "print(parameters)"
   ]
  },
  {
   "cell_type": "code",
   "execution_count": 21,
   "id": "714ebd3b",
   "metadata": {},
   "outputs": [
    {
     "name": "stdout",
     "output_type": "stream",
     "text": [
      "0.682029778802638\n"
     ]
    }
   ],
   "source": [
    "# FINAL VALUE OF COST AFTER OPTIMIZATION\n",
    "\n",
    "J = costFunction(parameters[:,np.newaxis], X, y)\n",
    "print(J)"
   ]
  },
  {
   "cell_type": "code",
   "execution_count": 22,
   "id": "a165a8be",
   "metadata": {},
   "outputs": [
    {
     "data": {
      "image/png": "[encoded data removed]",
      "text/plain": [
       "<Figure size 432x288 with 1 Axes>"
      ]
     },
     "metadata": {
      "needs_background": "light"
     },
     "output_type": "display_data"
    }
   ],
   "source": [
    "# PLOTTING THE DECISION BOUNDARY THAT SEPERATES THE TWO TYPES OF STUDENTS\n",
    "# DO NOT CHANGE, JUST RUN THE CELL\n",
    "\n",
    "plot_x = [np.min(X[:,1]-2), np.max(X[:,2]+2)]\n",
    "plot_y = -1/parameters[2]*(parameters[0] \n",
    "          + np.dot(parameters[1],plot_x))  \n",
    "mask = (y.flatten() == 1)\n",
    "adm = plt.scatter(X[mask][:,1], X[mask][:,2])\n",
    "not_adm = plt.scatter(X[~mask][:,1], X[~mask][:,2])\n",
    "decision_boun = plt.plot(plot_x, plot_y)\n",
    "plt.xlabel('Exam 1 score')\n",
    "plt.ylabel('Exam 2 score')\n",
    "plt.legend((adm, not_adm), ('Admitted', 'Not admitted'))\n",
    "plt.show()"
   ]
  },
  {
   "cell_type": "code",
   "execution_count": 23,
   "id": "09e3380b",
   "metadata": {},
   "outputs": [
    {
     "name": "stdout",
     "output_type": "stream",
     "text": [
      "55.55555555555556\n"
     ]
    }
   ],
   "source": [
    "# ACCURACY OF PREDICTION COMPARED TO THE ACTUAL VALUES\n",
    "\n",
    "def accuracy(X, y, theta, cutoff):\n",
    "    pred = [sigmoid(np.dot(X, theta)) >= cutoff]\n",
    "    acc = np.mean(pred == y)\n",
    "    print(acc * 100)\n",
    "    \n",
    "accuracy(X, y.flatten(), parameters, 0.5)"
   ]
  },
  {
   "cell_type": "raw",
   "id": "06a19109",
   "metadata": {},
   "source": [
    "### GIVE REASON WHY IS THE ACCURACY OF PREDICTION 89% AND NOT 100%.\n",
    "\n",
    "### BECAUSE THE CLASSIFICATION IS NOT A 100% ACCURATE, THERE ARE SOME POINTS MISCLASSIFIED BY THE ALGORITHM."
   ]
  },
  {
   "cell_type": "code",
   "execution_count": 24,
   "id": "f3b593d7",
   "metadata": {},
   "outputs": [
    {
     "data": {
      "image/png": "[encoded data removed]",
      "text/plain": [
       "<Figure size 432x288 with 1 Axes>"
      ]
     },
     "metadata": {
      "needs_background": "light"
     },
     "output_type": "display_data"
    }
   ],
   "source": [
    "def plot_roc_curve(fper, tper):\n",
    "    plt.plot(fper, tper, color='red', label='ROC')\n",
    "    plt.plot([0, 1], [0, 1], color='green', linestyle='--')\n",
    "    plt.xlabel('False Positive Rate')\n",
    "    plt.ylabel('True Positive Rate')\n",
    "    plt.title('Receiver Operating Characteristic Curve')\n",
    "    plt.legend()\n",
    "    plt.show()\n",
    "\n",
    "predictions = []\n",
    "for item in X:\n",
    "    predictions.append(sigmoid(item @ parameters))\n",
    "fper, tper, thresholds = roc_curve(y, predictions)\n",
    "plot_roc_curve(fper, tper)"
   ]
  }
 ],
 "metadata": {
  "kernelspec": {
   "display_name": "Python 3 (ipykernel)",
   "language": "python",
   "name": "python3"
  },
  "language_info": {
   "codemirror_mode": {
    "name": "ipython",
    "version": 3
   },
   "file_extension": ".py",
   "mimetype": "text/x-python",
   "name": "python",
   "nbconvert_exporter": "python",
   "pygments_lexer": "ipython3",
   "version": "3.9.12"
  }
 },
 "nbformat": 4,
 "nbformat_minor": 5
}
